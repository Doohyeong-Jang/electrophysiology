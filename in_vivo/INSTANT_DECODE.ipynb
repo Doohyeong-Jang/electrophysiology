{
 "cells": [
  {
   "cell_type": "code",
   "execution_count": 1,
   "id": "191ea920",
   "metadata": {},
   "outputs": [
    {
     "name": "stdout",
     "output_type": "stream",
     "text": [
      "['.ipynb_checkpoints', 'ANALYSIS_LOPM.ipynb', 'DJutilities.py', 'importrhsutilities.py', 'INSTANT_DECODE.ipynb', '__pycache__']\n"
     ]
    }
   ],
   "source": [
    "import os \n",
    "import numpy as np\n",
    "import pandas as pd \n",
    "import matplotlib.pyplot as plt\n",
    "\n",
    "path = 'C:/Users/DJ/Documents/Python_Scripts/EPG/GIT_EPG/in_vivo'\n",
    "\n",
    "os.chdir(path)\n",
    "print(os.listdir())"
   ]
  },
  {
   "cell_type": "code",
   "execution_count": 2,
   "id": "437ccdb6",
   "metadata": {},
   "outputs": [],
   "source": [
    "%run DJutilities.py # importrhsutilities.py has to be downloaded before. see the README\n",
    "%matplotlib inline"
   ]
  },
  {
   "cell_type": "code",
   "execution_count": 3,
   "id": "051d7bb7",
   "metadata": {},
   "outputs": [
    {
     "name": "stdout",
     "output_type": "stream",
     "text": [
      "['6-OHDA_2-B_210715_140635.rhs', '6-OHDA_2-B_210715_140736.rhs', '6-OHDA_2-B_210715_140836.rhs', '6-OHDA_2-B_210715_140936.rhs', '6-OHDA_2-B_210715_141036.rhs', '6-OHDA_2-B_210715_141136.rhs', '6-OHDA_2-B_210715_141236.rhs', '6-OHDA_2-B_210715_141336.rhs', '6-OHDA_2-B_210715_141436.rhs', '6-OHDA_2-B_210715_141536.rhs', '6-OHDA_2-B_210715_141636.rhs', '6-OHDA_2-B_210715_141736.rhs', '6-OHDA_2-B_210715_141836.rhs', '6-OHDA_2-B_210715_141936.rhs', '6-OHDA_2-B_210715_142036.rhs', '6-OHDA_2-B_210715_142136.rhs', '6-OHDA_2-B_210715_142236.rhs', '6-OHDA_2-B_210715_142336.rhs', '6-OHDA_2-B_210715_142436.rhs', '6-OHDA_2-B_210715_142536.rhs', '6-OHDA_2-B_210715_142636.rhs', '6-OHDA_2-B_210715_142736.rhs', 'settings.xml', '6-OHDA_2-B_210715_140635.csv', '6-OHDA_2-B_210715_140635.jpeg']\n"
     ]
    }
   ],
   "source": [
    "path = \"E:/210715 recording/6-OHDA_2-B/6-OHDA_2-B_210715_140635\"\n",
    "\n",
    "os.chdir(path)\n",
    "print(os.listdir())"
   ]
  },
  {
   "cell_type": "markdown",
   "id": "db88a53a",
   "metadata": {},
   "source": [
    "### Get the CSV files from bunch of rhs files"
   ]
  },
  {
   "cell_type": "code",
   "execution_count": 4,
   "id": "54b1036c",
   "metadata": {
    "scrolled": true
   },
   "outputs": [],
   "source": [
    "save_path = \"E:/210715 recording/6-OHDA_3-R\"\n",
    "read_path = \"E:/210715 recording/6-OHDA_3-R\"\n",
    "channel1 = 26\n",
    "channel2 = 28\n",
    "files_decoding(save_path, read_path, channel1, channel2)"
   ]
  },
  {
   "cell_type": "markdown",
   "id": "2882d85d",
   "metadata": {},
   "source": [
    "### Get the images of (time vs amplitude)"
   ]
  },
  {
   "cell_type": "code",
   "execution_count": 5,
   "id": "2e30b41e",
   "metadata": {},
   "outputs": [
    {
     "name": "stdout",
     "output_type": "stream",
     "text": [
      "6-OHDA_3-R_210715_133209.csv\n"
     ]
    }
   ],
   "source": [
    "plt.rcParams['agg.path.chunksize'] = 10000\n",
    "spike_detection = [500, 5000]\n",
    "lfp_detection = [1, 500] \n",
    "detection_mode = lfp_detection\n",
    "order = 2\n",
    "fs = 30000 # sampling rate. should be revised if changed\n",
    "\n",
    "save_figure(read_path, save_path, detection_mode, fs=fs, order=order, channel1=channel1,channel2=channel2)\n",
    "# for i in os.listdir():\n",
    "#     if i.endswith(\".csv\") and i[:-4]+\".jpeg\" not in os.listdir():\n",
    "#         save_figure(file = i, detection_mode=lfp_detection, fs=fs, order=order)"
   ]
  },
  {
   "cell_type": "code",
   "execution_count": 109,
   "id": "43af04ad",
   "metadata": {},
   "outputs": [],
   "source": [
    "plt.clf()\n",
    "plt.close('all')"
   ]
  }
 ],
 "metadata": {
  "kernelspec": {
   "display_name": "python (myenv)",
   "language": "python",
   "name": "myenv"
  },
  "language_info": {
   "codemirror_mode": {
    "name": "ipython",
    "version": 3
   },
   "file_extension": ".py",
   "mimetype": "text/x-python",
   "name": "python",
   "nbconvert_exporter": "python",
   "pygments_lexer": "ipython3",
   "version": "3.7.6"
  }
 },
 "nbformat": 4,
 "nbformat_minor": 5
}
