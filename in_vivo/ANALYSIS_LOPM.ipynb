{
 "cells": [
  {
   "cell_type": "code",
   "execution_count": 5,
   "id": "7ebd651d",
   "metadata": {},
   "outputs": [
    {
     "name": "stdout",
     "output_type": "stream",
     "text": [
      "['.ipynb_checkpoints', 'instant_decode.py', 'sdf.py', 'signal_analysis.py', 'Untitled.ipynb']\n"
     ]
    }
   ],
   "source": [
    "import os \n",
    "import numpy as np\n",
    "import pandas as pd \n",
    "import matplotlib.pyplot as plt\n",
    "from scipy.signal import butter, filtfilt, lfilter\n",
    "\n",
    "path = 'C:/Users/DJ/Documents/Python_Scripts/EPG/GIT_EPG/in_vivo'\n",
    "\n",
    "os.chdir(path)\n",
    "print(os.listdir())"
   ]
  },
  {
   "cell_type": "markdown",
   "id": "7d86c23e",
   "metadata": {},
   "source": [
    "## Load the utilities"
   ]
  },
  {
   "cell_type": "code",
   "execution_count": 7,
   "id": "74ed7c0c",
   "metadata": {},
   "outputs": [],
   "source": [
    "%run importrhsutilities.py # this has to be downloaded. see the README\n",
    "%matplotlib inline"
   ]
  },
  {
   "cell_type": "code",
   "execution_count": null,
   "id": "5ce3ab3b",
   "metadata": {},
   "outputs": [],
   "source": [
    "%run DJutilities.py"
   ]
  },
  {
   "cell_type": "markdown",
   "id": "d67c9a28",
   "metadata": {},
   "source": [
    "## Select the file and load the data"
   ]
  },
  {
   "cell_type": "code",
   "execution_count": null,
   "id": "31108807",
   "metadata": {},
   "outputs": [],
   "source": [
    "filename = \"1.rhs\"\n",
    "\n",
    "# should firstly check the proper channel from here.\n",
    "result, data_present = load_file(filename)\n",
    "\n",
    "# if you want to see all channels(stimulator, amplitude, etc...), make below code un-commented\n",
    "# print_all_channel_names(result)"
   ]
  },
  {
   "cell_type": "markdown",
   "id": "f97c01bc",
   "metadata": {},
   "source": [
    "### 1. Show the raw data"
   ]
  },
  {
   "cell_type": "code",
   "execution_count": null,
   "id": "f3925c4e",
   "metadata": {},
   "outputs": [],
   "source": [
    "# plotting the original data from 9th, 13rd channel\n",
    "channel_1 = 9\n",
    "channel_2 = 13\n",
    "\n",
    "fig = plt.figure()\n",
    "ax1 = fig.add_subplot(2,1,1)\n",
    "ax1.plot(result['t'], result['amplifier_data'][channel_1])\n",
    "\n",
    "ax2 = fig.add_subplot(2,1,2)\n",
    "ax2.plot(result['t'], result['amplifier_data'][channel_2])\n",
    "plt.show()"
   ]
  },
  {
   "cell_type": "markdown",
   "id": "ca193576",
   "metadata": {},
   "source": [
    "### 2. Show the filtered data"
   ]
  },
  {
   "cell_type": "code",
   "execution_count": null,
   "id": "0012c869",
   "metadata": {},
   "outputs": [],
   "source": [
    "# Setting cutting-frequency for filtering: [low, high]\n",
    "channel_1 = 9\n",
    "channel_2 = 13\n",
    "spike_detection = [500, 5000]\n",
    "lfp_detection = [1, 500] \n",
    "detection_mode = lfp_detection\n",
    "\n",
    "# Degree of cutting magnitude?(order), threshold(inclination_threshold)\n",
    "order = 2  \n",
    "inclination_threshold = 3  # 3 for lfp, 11 for spike based on my experience\n",
    "fs = result['frequency_parameters']['amplifier_sample_rate'] # sampling frequency\n",
    "filtered_data1 = butter_bandpass_filter(result['amplifier_data'][channel_1],detection_mode[0],detection_mode[1],fs, order)\n",
    "fig = plt.figure(figsize=(16,8))\n",
    "plt.plot(result['t'], result['amplifier_data'][channel_1], label=\"original data\")\n",
    "plt.plot(result['t'], filtered_data1, label='filtered_data' )\n",
    "plt.legend(loc='upper right')\n"
   ]
  },
  {
   "cell_type": "markdown",
   "id": "68763f9b",
   "metadata": {},
   "source": [
    "### 3. Show the frequency distribution"
   ]
  },
  {
   "cell_type": "code",
   "execution_count": null,
   "id": "2dac204a",
   "metadata": {},
   "outputs": [],
   "source": [
    "freq_distribution, freq_amp = frequency_analysis(filtered_data1, 30000)\n",
    "freq_distributiion2, freq_amp2 = frequency_analysis(result['amplifier_data'][channel_1], 30000)\n",
    "\n",
    "plt.plot(freq_distribution, freq_amp, color='red', label='filtered')\n",
    "plt.plot(freq_distribution2, freq_amp2, color='black', label='raw')\n",
    "plt.legend(loc='upper right')\n",
    "plt.xlim(0,30)\n",
    "plt.ylim(0,1.5)"
   ]
  },
  {
   "cell_type": "markdown",
   "id": "754a725d",
   "metadata": {},
   "source": [
    "### Another way to do.. is using resample which reduces the size of file significantly...."
   ]
  },
  {
   "cell_type": "code",
   "execution_count": null,
   "id": "42bd6a18",
   "metadata": {},
   "outputs": [],
   "source": [
    "# how to resample\n",
    "\n",
    "from scipy import signal\n",
    "a_signal = int(len(data)/30)  # 30khz -> 3khz -> 1khz\n",
    "f2 = signal.resample(filtered_data1, a_signal)\n",
    "x_new = np.linspace(time1[0], time1[-1], a_signal)\n",
    "\n",
    "plt.plot(time1, filtered_data1, color ='black')\n",
    "\n",
    "plt.plot( x_new, f2, color='red')\n",
    "plt.show()\n",
    "print(len(x_new), len(f2))\n",
    "\n",
    "freq_time, freq_amp = frequency_analysis(f2, 30000)\n",
    "plt.plot(freq_time, freq_amp)\n",
    "\n",
    "amplitude\n",
    "index = np.arange(len(tim))\n",
    "# for i in tim:\n",
    "#     plt.bar(index, data[i])\n",
    "plt.bar(index, abs(data[tim]))\n",
    "# plt.bar(index, data[tim])\n",
    "plt.ylim(0,300)\n",
    "    "
   ]
  },
  {
   "cell_type": "markdown",
   "id": "f1e6fdcb",
   "metadata": {},
   "source": [
    "# Below needs more revision...\n",
    "### (4. selects the typical data such as firing or etc...)"
   ]
  },
  {
   "cell_type": "code",
   "execution_count": null,
   "id": "c02d9894",
   "metadata": {},
   "outputs": [],
   "source": [
    "arg = find_peaks_arg(result['t'], filtered_data1, inclination_threshold,int(fs), mode = 'lfp')\n",
    "fig = plt.figure(figsize=(16,8))\n",
    "plt.plot(result['t'], filtered_data1, label = \"filtered signal\")\n",
    "plt.plot(result['t'][arg], filtered_data1[arg], label=\"chosen signal\")\n",
    "plt.legend(loc='upper right', fontsize=20)"
   ]
  },
  {
   "cell_type": "markdown",
   "id": "18f64075",
   "metadata": {},
   "source": [
    "### (5. get the spike)"
   ]
  },
  {
   "cell_type": "code",
   "execution_count": null,
   "id": "1016a1bb",
   "metadata": {},
   "outputs": [],
   "source": [
    "import numpy as np\n",
    "from scipy.signal import argrelextrema\n",
    "import pandas as pd\n",
    "\n",
    "df = pd.DataFrame()\n",
    "\n",
    "for test_i in arg:\n",
    "    if test_i-60 < 0 or test_i+90 > len(data):\n",
    "        pass\n",
    "    else:\n",
    "        SPIKE_START_POINT = 60\n",
    "        SPIKE_END_POINT = 90\n",
    "        \n",
    "        data_lp = argrelextrema(data[test_i-SPIKE_START_POINT:test_i],np.greater)[0][-1] + test_i - SPIKE_START_POINT # local maxima \n",
    "        data_rp = argrelextrema(data[test_i:test_i+SPIKE_END_POINT],np.greater)[0][0] + test_i # local maxima \n",
    "        data_mp = argrelextrema(data[test_i-4:test_i+20], np.less)[0][0]+ test_i - 3 # local minima +\n",
    "\n",
    "        ldist = data_mp -data_lp\n",
    "        rdist = data_rp - data_mp\n",
    "\n",
    "        data_lv = data[data_lp]\n",
    "        data_rv = data[data_rp]\n",
    "        data_mv = data[data_mp]\n",
    "        \n",
    "\n",
    "        lmv = data_lv - data_mv\n",
    "        rmv = data_rv - data_mv\n",
    "        \n",
    "        if len(df) == 0:\n",
    "            df = pd.DataFrame(np.array([data_lp,data_rp,data_mp,data_lv,data_mv,data_rv, ldist, rdist, lmv, rmv]),\n",
    "                              index = [\"Left_point\",\"Right_point\",\"Middle_point\",\"Left_voltage\",\"Middle_voltage\",\"Right_voltage\",\n",
    "                                      \"Left_distance\", \"Right_distance\", \"Left_middle_voltage\", \"Right_middle_voltage\"],\n",
    "                              columns =[test_i])\n",
    "        else:\n",
    "            df[test_i] =np.array([data_lp,data_rp,data_mp,data_lv,data_mv,data_rv, ldist, rdist, lmv, rmv]) # concat makes poor performance..\n",
    "\n",
    "        plot_configuration = False\n",
    "        if plot_configuration == True:\n",
    "            plt.plot(np.arange(0,5,1/30), data[test_i-SPIKE_START_POINT:test_i+SPIKE_END_POINT])\n",
    "            plt.scatter(np.arange(0,5,1/30)[data_lp-test_i+SPIKE_START_POINT], data[data_lp])\n",
    "            plt.scatter(np.arange(0,5,1/30)[data_mp-test_i+SPIKE_START_POINT], data[data_mp])\n",
    "            plt.scatter(np.arange(0,5,1/30)[data_rp-test_i+SPIKE_START_POINT], data[data_rp])\n",
    "            plt.show()"
   ]
  },
  {
   "cell_type": "code",
   "execution_count": null,
   "id": "d27d306e",
   "metadata": {},
   "outputs": [],
   "source": [
    "fig = plt.figure(figsize = (4,8))\n",
    "ax1 = fig.add_subplot(2,1,1)\n",
    "ax2 = fig.add_subplot(2,1,2)\n",
    "d = int(max(df.T['Right_distance']))\n",
    "\n",
    "for i in df.columns:\n",
    "    LP = int(df[i]['Left_point'])\n",
    "    MP = int(df[i]['Middle_point'])\n",
    "    RP = d+LP\n",
    "\n",
    "    graph_want = data[LP-20:RP+20]\n",
    "    if MP - LP < 13:\n",
    "        \n",
    "        ax1.plot(np.arange(len(graph_want)), graph_want, alpha = 0.1)\n",
    "    elif MP - LP >= 13 and MP- LP  < 30:\n",
    "        \n",
    "        ax2.plot(np.arange(len(graph_want)), graph_want, alpha = 0.1)\n",
    "        \n",
    "    \n",
    "plt.show()"
   ]
  },
  {
   "cell_type": "code",
   "execution_count": null,
   "id": "09569591",
   "metadata": {},
   "outputs": [],
   "source": [
    "# fig = plt.figure(figsize = (4,8))\n",
    "# ax1 = fig.add_subplot(2,1,1)\n",
    "# ax2 = fig.add_subplot(2,1,2)\n",
    "d = int(max(df.T['Right_distance']))\n",
    "\n",
    "for i in df.columns:\n",
    "    graph_want = data[LP-20:RP+20]\n",
    "    LP = int(df[i]['Left_point'])\n",
    "    MP = int(df[i]['Middle_point'])\n",
    "    RP = d+LP\n",
    "    plt.plot(np.arange(len(graph_want)), graph_want, alpha = 0.1) \n",
    "    \n",
    "plt.show()\n",
    "\n"
   ]
  },
  {
   "cell_type": "markdown",
   "id": "50571844",
   "metadata": {},
   "source": [
    "### machine learning. application -> need more study"
   ]
  },
  {
   "cell_type": "code",
   "execution_count": null,
   "id": "1f229c1c",
   "metadata": {},
   "outputs": [],
   "source": [
    "import seaborn as sns\n",
    "sns.pairplot(df[3:].T)"
   ]
  },
  {
   "cell_type": "code",
   "execution_count": null,
   "id": "7dac630e",
   "metadata": {},
   "outputs": [],
   "source": [
    "from sklearn.preprocessing import StandardScaler\n",
    "x = df.T.drop(['Left_point','Right_point', 'Middle_point', 'Left_middle_voltage', 'Right_middle_voltage', 'Middle_voltage'], axis=1).values\n",
    "y = df.T['Middle_voltage'].values\n",
    "x = StandardScaler().fit_transform(x)\n",
    "features = ['Left_voltage', 'Right_voltage', 'Left_distance', 'Right_distance']\n",
    "pd.DataFrame(x, columns=features).head()"
   ]
  },
  {
   "cell_type": "code",
   "execution_count": null,
   "id": "0a67654f",
   "metadata": {},
   "outputs": [],
   "source": [
    "from sklearn.decomposition import PCA\n",
    "\n",
    "pca = PCA(n_components = 2)\n",
    "principalComponents = pca.fit_transform(x)\n",
    "principalDf = pd.DataFrame(data= principalComponents, columns = [1,2])\n",
    "\n",
    "# pca.explained_variance_ratio_\n",
    "principalDf[2]\n",
    "plt.scatter(principalDf[1],principalDf[2])"
   ]
  },
  {
   "cell_type": "code",
   "execution_count": null,
   "id": "4d858720",
   "metadata": {},
   "outputs": [],
   "source": [
    "pca = PCA()\n",
    "pca.fit(df[7:9].T)\n",
    "pca.components_\n",
    "X_pca = pca.transform(df[7:9].T)\n",
    "display(X_pca.shape)\n",
    "\n",
    "\n",
    "plt.scatter(X_pca[:,0], X_pca[:,1], c=df.T['Middle_voltage'])\n",
    "plt.colorbar()"
   ]
  },
  {
   "cell_type": "code",
   "execution_count": null,
   "id": "e509d8f6",
   "metadata": {},
   "outputs": [],
   "source": [
    "from sklearn.cluster import KMeans\n",
    "from sklearn import preprocessing\n",
    "\n",
    "scaler = preprocessing.MinMaxScaler()\n",
    "processed_data = df[3:8].T.copy()\n",
    "\n",
    "processed_data[['Left_distance','Right_distance']] = scaler.fit_transform(processed_data[['Left_distance','Right_distance']])\n",
    "processed_data[['Left_voltage','Right_voltage','Middle_voltage']] = scaler.fit_transform(processed_data[['Left_voltage','Right_voltage','Middle_voltage']])\n",
    "sns.set_palette(\"Set2\")\n",
    "\n",
    "for i in range(1,9):\n",
    "    kmeans = KMeans(n_clusters = i)\n",
    "    kmeans.fit(processed_data)\n",
    "    result_by_sklearn =  processed_data.copy()\n",
    "    result_by_sklearn['cluster'] = kmeans.labels_\n",
    "    sns.pairplot(data = result_by_sklearn, hue='cluster')\n",
    "    plt.show()\n",
    "    \n",
    "\n",
    "# kmeans = KMeans(n_clusters = 8)\n",
    "# kmeans.fit(df[3:8].T)\n",
    "\n",
    "# result_by_sklearn =  df[3:8].T.copy()\n",
    "# result_by_sklearn['cluster'] = kmeans.labels_\n",
    "\n",
    "# sns.pairplot(data = result_by_sklearn, hue='cluster')\n"
   ]
  },
  {
   "cell_type": "code",
   "execution_count": null,
   "id": "69b7ba56",
   "metadata": {},
   "outputs": [],
   "source": [
    "from scipy.cluster.hierarchy import linkage, dendrogram\n",
    "linkage_list = ['single', 'complete', 'average', 'centroid', 'ward'] #min거리, max거리, average, centroid 거리, 군집간 제곱합-(군집내제곱합)\n",
    "data3 = [df[3:8].T.copy(), processed_data]\n",
    "\n",
    "fig, axes = plt.subplots(nrows=len(linkage_list), ncols=2, figsize=(16,35))\n",
    "\n",
    "for i in range(len(linkage_list)):\n",
    "    for j in range(len(data3)):\n",
    "        hierarchical_single = linkage(data3[j], method=linkage_list[i])\n",
    "        dn = dendrogram(hierarchical_single, ax=axes[i][j])\n",
    "        axes[i][j].title.set_text(linkage_list[i])\n",
    "plt.show()"
   ]
  },
  {
   "cell_type": "code",
   "execution_count": null,
   "id": "b841f35d",
   "metadata": {},
   "outputs": [],
   "source": [
    "from sklearn.cluster import AgglomerativeClustering\n",
    "agg_clustering = AgglomerativeClustering(n_clusters = 2, linkage='ward')\n",
    "labels = agg_clustering.fit_predict(data3)\n",
    "\n",
    "# plt.figure(figsize = (20,6))\n",
    "# plt.subplot(131)\n",
    "# sns.scatterplot(x)\n",
    "labels"
   ]
  },
  {
   "cell_type": "code",
   "execution_count": null,
   "id": "daa2684d",
   "metadata": {},
   "outputs": [],
   "source": [
    "from mpl_toolkits.mplot3d import Axes3D\n",
    "\n",
    "fig = plt.figure(figsize = (10,10))\n",
    "ax = fig.add_subplot(111, projection = '3d')\n",
    "\n",
    "x = data3['Left_voltage']\n",
    "y = data3['Middle_voltage']\n",
    "z = data3['Right_voltage']\n",
    "ax.scatter(x,y,z,c =labels, s =20, alpha=0.5, cmap='rainbow')"
   ]
  }
 ],
 "metadata": {
  "kernelspec": {
   "display_name": "python (myenv)",
   "language": "python",
   "name": "myenv"
  },
  "language_info": {
   "codemirror_mode": {
    "name": "ipython",
    "version": 3
   },
   "file_extension": ".py",
   "mimetype": "text/x-python",
   "name": "python",
   "nbconvert_exporter": "python",
   "pygments_lexer": "ipython3",
   "version": "3.7.6"
  }
 },
 "nbformat": 4,
 "nbformat_minor": 5
}
