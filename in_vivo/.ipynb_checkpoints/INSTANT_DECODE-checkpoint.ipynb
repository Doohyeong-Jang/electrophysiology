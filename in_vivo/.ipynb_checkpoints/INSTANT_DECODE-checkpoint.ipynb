{
 "cells": [
  {
   "cell_type": "code",
   "execution_count": null,
   "id": "191ea920",
   "metadata": {},
   "outputs": [],
   "source": [
    "import os \n",
    "import numpy as np\n",
    "import pandas as pd \n",
    "import matplotlib.pyplot as plt\n",
    "\n",
    "path = 'C:/Users/DJ/Documents/Python_Scripts/EPG/GIT_EPG/in_vivo'\n",
    "\n",
    "os.chdir(path)\n",
    "print(os.listdir())"
   ]
  },
  {
   "cell_type": "code",
   "execution_count": null,
   "id": "b6521413",
   "metadata": {},
   "outputs": [],
   "source": [
    "%run importrhsutilities.py # this has to be downloaded. see the README\n",
    "%matplotlib inline"
   ]
  },
  {
   "cell_type": "code",
   "execution_count": null,
   "id": "437ccdb6",
   "metadata": {},
   "outputs": [],
   "source": [
    "%run DJutilities.py"
   ]
  },
  {
   "cell_type": "markdown",
   "id": "db88a53a",
   "metadata": {},
   "source": [
    "### Get the CSV files from bunch of rhs files"
   ]
  },
  {
   "cell_type": "code",
   "execution_count": null,
   "id": "54b1036c",
   "metadata": {},
   "outputs": [],
   "source": [
    "save_path = \"D:/inu_invivo\"\n",
    "read_path = \"E:/in vivo/recording\"\n",
    "channel1 = 9\n",
    "channel2 = 13\n",
    "files_decoding(save_path, read_path, channel1, channel2)"
   ]
  },
  {
   "cell_type": "markdown",
   "id": "2882d85d",
   "metadata": {},
   "source": [
    "### Get the images of (time vs amplitude)"
   ]
  },
  {
   "cell_type": "code",
   "execution_count": null,
   "id": "2e30b41e",
   "metadata": {},
   "outputs": [],
   "source": [
    "plt.rcParams['agg.path.chunksize'] = 10000\n",
    "spike_detection = [500, 5000]\n",
    "lfp_detection = [1, 500] \n",
    "detection_mode = lfp_detection\n",
    "order = 2\n",
    "fs = 30000 # sampling rate. should be revised if changed\n",
    "for i in os.listdir():\n",
    "    if i.endswith(\".csv\") and i[:-4]+\".jpeg\" not in os.listdir():\n",
    "        save_figure(file = i, detection_mode=lfp_detection, fs=fs, order=order)"
   ]
  }
 ],
 "metadata": {
  "kernelspec": {
   "display_name": "python (myenv)",
   "language": "python",
   "name": "myenv"
  },
  "language_info": {
   "codemirror_mode": {
    "name": "ipython",
    "version": 3
   },
   "file_extension": ".py",
   "mimetype": "text/x-python",
   "name": "python",
   "nbconvert_exporter": "python",
   "pygments_lexer": "ipython3",
   "version": "3.7.6"
  }
 },
 "nbformat": 4,
 "nbformat_minor": 5
}
